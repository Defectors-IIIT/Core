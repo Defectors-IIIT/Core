{
 "cells": [
  {
   "cell_type": "markdown",
   "metadata": {},
   "source": [
    "## Beams Algorithm"
   ]
  },
  {
   "cell_type": "markdown",
   "metadata": {},
   "source": [
    "Beam search is an optimised best-first search algoritm using BFS. The algorithm chooses b most cost effective nodes to traverse through based on an heuristic function. Only these b (called beam width) nodes are stored in the priority queue.\n",
    "\n",
    "The heuristic function here needs to defined by us. For mazes one simple heuristic would be to based on the straight line distance from the choice nodes to the exit. b choice nodes with lowest distances will be chosen and stored in memory, the rest ignored.\n",
    "\n",
    "The beam width is also determined by the programmer, based on the heuristic function chosen. The value will be chosen based on prior testing of width values, to find which works best."
   ]
  },
  {
   "cell_type": "markdown",
   "metadata": {},
   "source": [
    "## Algorithm\n",
    "    OPEN = {initial state} \n",
    "        while OPEN is not empty do \n",
    "            Remove the best node from OPEN, call it n. \n",
    "            If n is the goal state, backtrace path to n (through recorded parents) and return path.\n",
    "            Create n's successors. \n",
    "            Evaluate each successor, add it to OPEN, and record its parent.\n",
    "            If |OPEN| > b , take the best b nodes (according to heuristic) and remove the others from the OPEN. \n",
    "    done"
   ]
  },
  {
   "cell_type": "markdown",
   "metadata": {},
   "source": [
    "### Completeness: Incomplete\n",
    "    Since the the algorithm does not traverse all nodes, and instead takes a greedy strategy, it will not always find a solution.\n",
    "\n",
    "### Complexity\n",
    "    Time Complexity: O(b\\*d) , where b = beam width, d = graph depth\n",
    "    O(bd) is the worst case time complexity as at every level of the graph we may have to update the priority queue entirely, performing b operations at every level (total levels = d).\n",
    "\n",
    "    Space Complexity: O(b) ,  b = beam width\n",
    "    Space complexity is proportional to beam width as the priority queue is the only data structure that stores memory (apart from iterators and the like). Since the priority queue will have b elements, space taken will be proportional to b."
   ]
  },
  {
   "cell_type": "code",
   "execution_count": null,
   "metadata": {},
   "outputs": [],
   "source": []
  }
 ],
 "metadata": {
  "kernelspec": {
   "display_name": "Python 3",
   "language": "python",
   "name": "python3"
  },
  "language_info": {
   "codemirror_mode": {
    "name": "ipython",
    "version": 3
   },
   "file_extension": ".py",
   "mimetype": "text/x-python",
   "name": "python",
   "nbconvert_exporter": "python",
   "pygments_lexer": "ipython3",
   "version": "3.8.5"
  }
 },
 "nbformat": 4,
 "nbformat_minor": 4
}
